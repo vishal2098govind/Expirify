{
 "cells": [
  {
   "cell_type": "code",
   "execution_count": 6,
   "metadata": {},
   "outputs": [
    {
     "name": "stdout",
     "output_type": "stream",
     "text": [
      "<PIL.JpegImagePlugin.JpegImageFile image mode=RGB size=470x454 at 0x19CB91BED08>\n",
      "CODE:\n",
      "\n",
      "PKD.:\n",
      "\n",
      "MAP.Rs,\n",
      "(nc ofal axes)\n"
     ]
    }
   ],
   "source": [
    "# import the following libraries \n",
    "# will convert the image to text string \n",
    "import pytesseract\t \n",
    "\n",
    "# adds image processing capabilities \n",
    "from PIL import Image\t \n",
    "\n",
    "# converts the text to speech \n",
    "import pyttsx3\t\t \n",
    "\n",
    "#translates into the mentioned language \n",
    "from googletrans import Translator\t \n",
    "\n",
    "# opening an image from the source path \n",
    "img = Image.open('bornvita.jpg')\t \n",
    "\n",
    "# describes image format in the output \n",
    "print(img)\t\t\t\t\t\t \n",
    "# path where the tesseract module is installed \n",
    "pytesseract.pytesseract.tesseract_cmd ='C:/Program Files/Tesseract-OCR/tesseract.exe'\n",
    "# converts the image to result and saves it into result variable \n",
    "result = pytesseract.image_to_string(img) \n",
    "# write text in a text file and save it to source path \n",
    "with open('abc.txt',mode ='w') as file:\t \n",
    "\t\n",
    "\t\t\t\tfile.write(result) \n",
    "\t\t\t\tprint(result) \n",
    "\t\t\t\t\n",
    "# p = Translator()\t\t\t\t\t \n",
    "# # translates the text into german language \n",
    "# k = p.translate(result,dest='english')\t \n",
    "# print(k) \n",
    "# engine = pyttsx3.init() \n",
    "\n",
    "# # an audio will be played which speaks the test if pyttsx3 recognizes it \n",
    "# engine.say(k)\t\t\t\t\t\t\t \n",
    "# engine.runAndWait() \n"
   ]
  },
  {
   "cell_type": "code",
   "execution_count": null,
   "metadata": {},
   "outputs": [],
   "source": []
  },
  {
   "cell_type": "code",
   "execution_count": null,
   "metadata": {},
   "outputs": [],
   "source": []
  }
 ],
 "metadata": {
  "kernelspec": {
   "display_name": "Python 3",
   "language": "python",
   "name": "python3"
  },
  "language_info": {
   "codemirror_mode": {
    "name": "ipython",
    "version": 3
   },
   "file_extension": ".py",
   "mimetype": "text/x-python",
   "name": "python",
   "nbconvert_exporter": "python",
   "pygments_lexer": "ipython3",
   "version": "3.7.4"
  }
 },
 "nbformat": 4,
 "nbformat_minor": 2
}
